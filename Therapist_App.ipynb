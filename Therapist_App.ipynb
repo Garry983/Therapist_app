{
 "cells": [
  {
   "cell_type": "code",
   "execution_count": 8,
   "id": "fe90d97b",
   "metadata": {},
   "outputs": [],
   "source": [
    "from tkinter import *"
   ]
  },
  {
   "cell_type": "code",
   "execution_count": 9,
   "id": "0547e550",
   "metadata": {},
   "outputs": [],
   "source": [
    "root=Tk()"
   ]
  },
  {
   "cell_type": "code",
   "execution_count": 10,
   "id": "c618212a",
   "metadata": {},
   "outputs": [],
   "source": [
    "root.title(\"TherapistAPP!\")\n",
    "root.geometry(\"400x600\")\n",
    "root.configure(bg=\"red\")\n",
    "bg = PhotoImage(file = r\"C:\\Users\\garim\\Downloads\\new.png\")\n",
    "label1=Label( root, image = bg)\n",
    "label1.place(x = 0, y = 0)\n",
    "myLabel=Label(root,text=\"Enter your first Name!\")\n",
    "myLabel.pack()\n",
    "\n",
    "def hello():\n",
    "    hello_label=Label(root,text=\"Hello \"+myTextbox.get())\n",
    "    hello_label_1=Label(root,text=\"How're you feeling today? \"+myTextbox.get())\n",
    "    hello_label.pack()\n",
    "    hello_label_1.pack()\n",
    "def followUp():\n",
    "    a=myTextbox_1.get().split()\n",
    "    for i in a:\n",
    "        if(i==\"sad\" or i==\"mad\" or i==\"bad\"):\n",
    "            hello_label_2=Label(root,text=\"Everything will be okay! \"+myTextbox.get())\n",
    "            hello_label_2.pack()\n",
    "        if(i==\"happy\" or i==\"great\" or i==\"awesome\"):\n",
    "            hello_label_3=Label(root,text=\"I am happy with you! \"+myTextbox.get())\n",
    "            hello_label_2.pack()\n",
    "myTextbox=Entry(root,width=30)\n",
    "myTextbox.pack()\n",
    "myLabel_2=myLabel=Label(root,text=\"Your feeling\")\n",
    "myLabel.pack()\n",
    "myTextbox_1=Entry(root,width=30)\n",
    "\n",
    "myTextbox_1.pack()\n",
    "myButton=Button(root,text='Submit',command=hello)\n",
    "myButton.pack()\n",
    "myButton_2=Button(root,text='Submit',command=followUp)\n",
    "myButton_2.pack()\n",
    "root.mainloop()"
   ]
  },
  {
   "cell_type": "code",
   "execution_count": null,
   "id": "fec65f5f",
   "metadata": {},
   "outputs": [],
   "source": []
  },
  {
   "cell_type": "code",
   "execution_count": null,
   "id": "7edd2c6b",
   "metadata": {},
   "outputs": [],
   "source": []
  }
 ],
 "metadata": {
  "kernelspec": {
   "display_name": "Python 3",
   "language": "python",
   "name": "python3"
  },
  "language_info": {
   "codemirror_mode": {
    "name": "ipython",
    "version": 3
   },
   "file_extension": ".py",
   "mimetype": "text/x-python",
   "name": "python",
   "nbconvert_exporter": "python",
   "pygments_lexer": "ipython3",
   "version": "3.8.3"
  }
 },
 "nbformat": 4,
 "nbformat_minor": 5
}
